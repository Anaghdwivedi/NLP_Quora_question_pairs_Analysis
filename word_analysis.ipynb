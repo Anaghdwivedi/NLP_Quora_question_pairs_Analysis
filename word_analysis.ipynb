{
  "nbformat": 4,
  "nbformat_minor": 0,
  "metadata": {
    "colab": {
      "provenance": []
    },
    "kernelspec": {
      "name": "python3",
      "display_name": "Python 3"
    },
    "language_info": {
      "name": "python"
    }
  },
  "cells": [
    {
      "cell_type": "code",
      "execution_count": 241,
      "metadata": {
        "id": "dutjcP40Uu0A"
      },
      "outputs": [],
      "source": [
        "import pandas as pd\n",
        "import requests \n",
        "from bs4 import BeautifulSoup\n",
        "import nltk\n",
        "import urllib\n",
        "import re\n",
        "from nltk.corpus import stopwords"
      ]
    },
    {
      "cell_type": "code",
      "source": [
        "# entry = pd.read_csv(\"/content/Input.xlsx - Sheet1.csv\")\n",
        "# for i in range(len(entry['URL'].axes[0])):\n",
        "#   url=\"entry['URL'][i]\" \n",
        "url=\"https://insights.blackcoffer.com/why-does-your-business-need-a-chatbot/\"\n",
        "page= requests.get(url)\n"
      ],
      "metadata": {
        "id": "Jd0PByXUVRHb"
      },
      "execution_count": 242,
      "outputs": []
    },
    {
      "cell_type": "code",
      "source": [
        "soup = BeautifulSoup(page.content, 'lxml')"
      ],
      "metadata": {
        "id": "PJCmamZSekew"
      },
      "execution_count": 243,
      "outputs": []
    },
    {
      "cell_type": "code",
      "source": [],
      "metadata": {
        "id": "QIEe031e3eVU"
      },
      "execution_count": 243,
      "outputs": []
    },
    {
      "cell_type": "code",
      "source": [
        "title = soup.find_all('h1', class_=\"entry-title\")\n",
        "our_title=title[0].text"
      ],
      "metadata": {
        "id": "cuzg38QxfsL0"
      },
      "execution_count": 244,
      "outputs": []
    },
    {
      "cell_type": "code",
      "source": [
        "text=\"\"\n",
        "for paragraph in soup.find_all('p'):\n",
        "    text += paragraph.text\n",
        "\n",
        "print(text)"
      ],
      "metadata": {
        "colab": {
          "base_uri": "https://localhost:8080/"
        },
        "id": "omUxNl_ifM7y",
        "outputId": "47c194c0-eacf-46f5-8957-1700103efa3c"
      },
      "execution_count": 245,
      "outputs": [
        {
          "output_type": "stream",
          "name": "stdout",
          "text": [
            "Ranking customer behaviours for business strategyAlgorithmic trading for multiple commodities markets, like Forex, Metals, Energy, etc.Trading Bot for FOREXPython model for the analysis of sector-specific stock ETFs for investment purposesPlaystore & Appstore to Google Analytics (GA) or Firebase to Google Data Studio Mobile App KPI DashboardGoogle Local Service Ads LSA API To Google BigQuery to Google Data StudioAI Conversational Bot using RASARecommendation System ArchitectureRise of telemedicine and its Impact on Livelihood by 2040Rise of e-health and its impact on humans by the year 2030Rise of e-health and its impact on humans by the year 2030Rise of Chatbots and its impact on customer support by the year 2040AI/ML and Predictive ModelingSolution for Contact Centre ProblemsHow to Setup Custom Domain for Google App Engine Application?Code Review ChecklistMr. Sakamoto is a bonsai artist, lives downtown Kyoto, Japan. Bonsai is a Japanese art form that is the cultivation of small trees in a small or medium container. He is in this field of business for the last ten years and he loves what he does on a daily basis. People from different cities in Japan, come to buy his artwork. But, in the early stage of his business, he was just another regular Bosai artist. His popularity has increased because of the stories he tells for every art he is selling. His customer immediately loved him for this while buying A Bonsai art. He loved to sell his customer with his artwork and a story related to that product which resurrects his presence through his art in customers. Soon enough his business thrived and nowadays he is always busy. After the digital revolution, although his sales increased, he was not happy. He was not satisfied. Something is eating up his mind day by day. He could not understand what’s the reason behind his remorse.A chatbot is an awesome invention of the digital revolution. It is the real-life embodiment of Customer Engagement. Every business needs this feature- will be an understatement. Because Customer engagement is the base of any business. The chatbot does the exact thing digitally. It helps customers to answer the queries and tell about the product that the business has to offer is a fully automated way with vibrant customizations.            Mr. Sakamoto is running his business for the last fifteen years now. And now he is happy that he was not for the past couple of years. The rationale behind his happiness is the chatbot. Though he has a website and app to sell his Bonsai art, he could not engage with the customers in the way he wanted to. He has trained his employees and apprentices, but they are not providing the same service in the way he does. He was unsatisfied and the chatbot relives him from his sadness. He has done all that at affordable prices in no time.Let’s understand the Mr. Sakamoto’s “Mondai Nai”- perspective about why chatbot is the answer of his problems.This is the fundamental and root cause for which Mr. Sakamoto has to implement the chatbot in the first place. His stories are embedded with each art. The product which he sells needs this story to be with it. His stories which were not been told to all the customers before are now sharing with this chatbot and building the trust between them. We all can agree on this one statement that trust is the most impactful aspect, maybe the best of aspects, in the relation between any customer and business-owner, whether the business is small, medium, or large.Millennials, a word that was not introduced before 1990. The generation which is stuck in between Gen-x and Gen-y. A generation of people accustomed to both digitization and old culture. They are the most targeted audience in this era. What else would be more approachable to this generation than a chatbot? It’s easy, less time consuming to use. Mr. Sakamoto is now one of the few Gen-x persons who can do business with the millennial so easily.Mr. Sakamoto has some employees and apprentices. He has trained them as per his needs. But there is a limit. They can’t deliver the exact things that he can or the way he does. Neither chatbot can do that exactly, it will accurately follow the instructions. Not only the chatbot solve the queries of the customer in his way, but also give a recommendation to the product in the way he wants too. Is there any more attribute he would care about that? Absolutely no!The most expensive thing for any businessman is the return of their customer with an empty hand because of his unavailability. A chatbot is a perfect way to solve it. For Mr. Sakamoto’s customized chatbot is not only present for customers in their availability, but also It was giving the response to the customer in all the time zone, all over the world. Mr. Sakamoto wouldn’t be happier for this feature.In the era of globalization, what is more, helpful than a chatbot? It can be customized in any language. It can be accessed by any human being residing in any part of the world. And at the end of the day, when that foreigner is happy with the buy and the felicitation and says “Arigato” but in his own language, at that moment he feels so warm and happy.Handling a lot of customers is really hard. He assigned employees, but the rate is growing fast. So, in the competition of the market, Mr. Sakamoto took the help of a chatbot. Now this automated customized application is handling a greater number of customers than his employees can do. His business is growing exponentially.Now, when you found out why Mr. Sakamoto is happy and his business is growing in this competitive industry then, do you still have a question in mind that why does your business need a chatbot?We provide intelligence, accelerate innovation and implement technology with extraordinary breadth and depth global insights into the big data,data-driven dashboards, applications development, and information management for organizations through combining unique, specialist services and high-lvel human expertise.Contact us: hello@blackcoffer.com© All Right Reserved, Blackcoffer(OPC) Pvt. Ltd\n"
          ]
        }
      ]
    },
    {
      "cell_type": "code",
      "source": [
        "text = re.sub(r'\\[[0-9]*\\]', ' ', text)\n",
        "text = re.sub(r'\\s+',' ', text)\n",
        "text = text.lower()\n",
        "text = re.sub(r'\\d',' ',text)\n",
        "text = re.sub(r'\\s+', ' ',text)"
      ],
      "metadata": {
        "id": "cEwgcMRThevy"
      },
      "execution_count": 246,
      "outputs": []
    },
    {
      "cell_type": "code",
      "source": [
        "data= [[our_title,text]]\n",
        "data"
      ],
      "metadata": {
        "colab": {
          "base_uri": "https://localhost:8080/"
        },
        "id": "EAxV5G5rn_4M",
        "outputId": "34fb8a4e-8c61-4a2a-9bdc-53a8e6b2e5b9"
      },
      "execution_count": 247,
      "outputs": [
        {
          "output_type": "execute_result",
          "data": {
            "text/plain": [
              "[['Why does your business need a chatbot?',\n",
              "  'ranking customer behaviours for business strategyalgorithmic trading for multiple commodities markets, like forex, metals, energy, etc.trading bot for forexpython model for the analysis of sector-specific stock etfs for investment purposesplaystore & appstore to google analytics (ga) or firebase to google data studio mobile app kpi dashboardgoogle local service ads lsa api to google bigquery to google data studioai conversational bot using rasarecommendation system architecturerise of telemedicine and its impact on livelihood by rise of e-health and its impact on humans by the year rise of e-health and its impact on humans by the year rise of chatbots and its impact on customer support by the year ai/ml and predictive modelingsolution for contact centre problemshow to setup custom domain for google app engine application?code review checklistmr. sakamoto is a bonsai artist, lives downtown kyoto, japan. bonsai is a japanese art form that is the cultivation of small trees in a small or medium container. he is in this field of business for the last ten years and he loves what he does on a daily basis. people from different cities in japan, come to buy his artwork. but, in the early stage of his business, he was just another regular bosai artist. his popularity has increased because of the stories he tells for every art he is selling. his customer immediately loved him for this while buying a bonsai art. he loved to sell his customer with his artwork and a story related to that product which resurrects his presence through his art in customers. soon enough his business thrived and nowadays he is always busy. after the digital revolution, although his sales increased, he was not happy. he was not satisfied. something is eating up his mind day by day. he could not understand what’s the reason behind his remorse.a chatbot is an awesome invention of the digital revolution. it is the real-life embodiment of customer engagement. every business needs this feature- will be an understatement. because customer engagement is the base of any business. the chatbot does the exact thing digitally. it helps customers to answer the queries and tell about the product that the business has to offer is a fully automated way with vibrant customizations. mr. sakamoto is running his business for the last fifteen years now. and now he is happy that he was not for the past couple of years. the rationale behind his happiness is the chatbot. though he has a website and app to sell his bonsai art, he could not engage with the customers in the way he wanted to. he has trained his employees and apprentices, but they are not providing the same service in the way he does. he was unsatisfied and the chatbot relives him from his sadness. he has done all that at affordable prices in no time.let’s understand the mr. sakamoto’s “mondai nai”- perspective about why chatbot is the answer of his problems.this is the fundamental and root cause for which mr. sakamoto has to implement the chatbot in the first place. his stories are embedded with each art. the product which he sells needs this story to be with it. his stories which were not been told to all the customers before are now sharing with this chatbot and building the trust between them. we all can agree on this one statement that trust is the most impactful aspect, maybe the best of aspects, in the relation between any customer and business-owner, whether the business is small, medium, or large.millennials, a word that was not introduced before . the generation which is stuck in between gen-x and gen-y. a generation of people accustomed to both digitization and old culture. they are the most targeted audience in this era. what else would be more approachable to this generation than a chatbot? it’s easy, less time consuming to use. mr. sakamoto is now one of the few gen-x persons who can do business with the millennial so easily.mr. sakamoto has some employees and apprentices. he has trained them as per his needs. but there is a limit. they can’t deliver the exact things that he can or the way he does. neither chatbot can do that exactly, it will accurately follow the instructions. not only the chatbot solve the queries of the customer in his way, but also give a recommendation to the product in the way he wants too. is there any more attribute he would care about that? absolutely no!the most expensive thing for any businessman is the return of their customer with an empty hand because of his unavailability. a chatbot is a perfect way to solve it. for mr. sakamoto’s customized chatbot is not only present for customers in their availability, but also it was giving the response to the customer in all the time zone, all over the world. mr. sakamoto wouldn’t be happier for this feature.in the era of globalization, what is more, helpful than a chatbot? it can be customized in any language. it can be accessed by any human being residing in any part of the world. and at the end of the day, when that foreigner is happy with the buy and the felicitation and says “arigato” but in his own language, at that moment he feels so warm and happy.handling a lot of customers is really hard. he assigned employees, but the rate is growing fast. so, in the competition of the market, mr. sakamoto took the help of a chatbot. now this automated customized application is handling a greater number of customers than his employees can do. his business is growing exponentially.now, when you found out why mr. sakamoto is happy and his business is growing in this competitive industry then, do you still have a question in mind that why does your business need a chatbot?we provide intelligence, accelerate innovation and implement technology with extraordinary breadth and depth global insights into the big data,data-driven dashboards, applications development, and information management for organizations through combining unique, specialist services and high-lvel human expertise.contact us: hello@blackcoffer.com© all right reserved, blackcoffer(opc) pvt. ltd']]"
            ]
          },
          "metadata": {},
          "execution_count": 247
        }
      ]
    },
    {
      "cell_type": "code",
      "source": [
        "df=pd.DataFrame(data, columns=['our_title', 'text'])\n",
        "df"
      ],
      "metadata": {
        "colab": {
          "base_uri": "https://localhost:8080/",
          "height": 80
        },
        "id": "Fqy4e_4JoaBK",
        "outputId": "3ac58bd1-049a-498b-c9e6-669b62ed5644"
      },
      "execution_count": 248,
      "outputs": [
        {
          "output_type": "execute_result",
          "data": {
            "text/plain": [
              "                                our_title  \\\n",
              "0  Why does your business need a chatbot?   \n",
              "\n",
              "                                                text  \n",
              "0  ranking customer behaviours for business strat...  "
            ],
            "text/html": [
              "\n",
              "  <div id=\"df-950c2421-5f0f-47a0-9890-44aa08fd3a05\">\n",
              "    <div class=\"colab-df-container\">\n",
              "      <div>\n",
              "<style scoped>\n",
              "    .dataframe tbody tr th:only-of-type {\n",
              "        vertical-align: middle;\n",
              "    }\n",
              "\n",
              "    .dataframe tbody tr th {\n",
              "        vertical-align: top;\n",
              "    }\n",
              "\n",
              "    .dataframe thead th {\n",
              "        text-align: right;\n",
              "    }\n",
              "</style>\n",
              "<table border=\"1\" class=\"dataframe\">\n",
              "  <thead>\n",
              "    <tr style=\"text-align: right;\">\n",
              "      <th></th>\n",
              "      <th>our_title</th>\n",
              "      <th>text</th>\n",
              "    </tr>\n",
              "  </thead>\n",
              "  <tbody>\n",
              "    <tr>\n",
              "      <th>0</th>\n",
              "      <td>Why does your business need a chatbot?</td>\n",
              "      <td>ranking customer behaviours for business strat...</td>\n",
              "    </tr>\n",
              "  </tbody>\n",
              "</table>\n",
              "</div>\n",
              "      <button class=\"colab-df-convert\" onclick=\"convertToInteractive('df-950c2421-5f0f-47a0-9890-44aa08fd3a05')\"\n",
              "              title=\"Convert this dataframe to an interactive table.\"\n",
              "              style=\"display:none;\">\n",
              "        \n",
              "  <svg xmlns=\"http://www.w3.org/2000/svg\" height=\"24px\"viewBox=\"0 0 24 24\"\n",
              "       width=\"24px\">\n",
              "    <path d=\"M0 0h24v24H0V0z\" fill=\"none\"/>\n",
              "    <path d=\"M18.56 5.44l.94 2.06.94-2.06 2.06-.94-2.06-.94-.94-2.06-.94 2.06-2.06.94zm-11 1L8.5 8.5l.94-2.06 2.06-.94-2.06-.94L8.5 2.5l-.94 2.06-2.06.94zm10 10l.94 2.06.94-2.06 2.06-.94-2.06-.94-.94-2.06-.94 2.06-2.06.94z\"/><path d=\"M17.41 7.96l-1.37-1.37c-.4-.4-.92-.59-1.43-.59-.52 0-1.04.2-1.43.59L10.3 9.45l-7.72 7.72c-.78.78-.78 2.05 0 2.83L4 21.41c.39.39.9.59 1.41.59.51 0 1.02-.2 1.41-.59l7.78-7.78 2.81-2.81c.8-.78.8-2.07 0-2.86zM5.41 20L4 18.59l7.72-7.72 1.47 1.35L5.41 20z\"/>\n",
              "  </svg>\n",
              "      </button>\n",
              "      \n",
              "  <style>\n",
              "    .colab-df-container {\n",
              "      display:flex;\n",
              "      flex-wrap:wrap;\n",
              "      gap: 12px;\n",
              "    }\n",
              "\n",
              "    .colab-df-convert {\n",
              "      background-color: #E8F0FE;\n",
              "      border: none;\n",
              "      border-radius: 50%;\n",
              "      cursor: pointer;\n",
              "      display: none;\n",
              "      fill: #1967D2;\n",
              "      height: 32px;\n",
              "      padding: 0 0 0 0;\n",
              "      width: 32px;\n",
              "    }\n",
              "\n",
              "    .colab-df-convert:hover {\n",
              "      background-color: #E2EBFA;\n",
              "      box-shadow: 0px 1px 2px rgba(60, 64, 67, 0.3), 0px 1px 3px 1px rgba(60, 64, 67, 0.15);\n",
              "      fill: #174EA6;\n",
              "    }\n",
              "\n",
              "    [theme=dark] .colab-df-convert {\n",
              "      background-color: #3B4455;\n",
              "      fill: #D2E3FC;\n",
              "    }\n",
              "\n",
              "    [theme=dark] .colab-df-convert:hover {\n",
              "      background-color: #434B5C;\n",
              "      box-shadow: 0px 1px 3px 1px rgba(0, 0, 0, 0.15);\n",
              "      filter: drop-shadow(0px 1px 2px rgba(0, 0, 0, 0.3));\n",
              "      fill: #FFFFFF;\n",
              "    }\n",
              "  </style>\n",
              "\n",
              "      <script>\n",
              "        const buttonEl =\n",
              "          document.querySelector('#df-950c2421-5f0f-47a0-9890-44aa08fd3a05 button.colab-df-convert');\n",
              "        buttonEl.style.display =\n",
              "          google.colab.kernel.accessAllowed ? 'block' : 'none';\n",
              "\n",
              "        async function convertToInteractive(key) {\n",
              "          const element = document.querySelector('#df-950c2421-5f0f-47a0-9890-44aa08fd3a05');\n",
              "          const dataTable =\n",
              "            await google.colab.kernel.invokeFunction('convertToInteractive',\n",
              "                                                     [key], {});\n",
              "          if (!dataTable) return;\n",
              "\n",
              "          const docLinkHtml = 'Like what you see? Visit the ' +\n",
              "            '<a target=\"_blank\" href=https://colab.research.google.com/notebooks/data_table.ipynb>data table notebook</a>'\n",
              "            + ' to learn more about interactive tables.';\n",
              "          element.innerHTML = '';\n",
              "          dataTable['output_type'] = 'display_data';\n",
              "          await google.colab.output.renderOutput(dataTable, element);\n",
              "          const docLink = document.createElement('div');\n",
              "          docLink.innerHTML = docLinkHtml;\n",
              "          element.appendChild(docLink);\n",
              "        }\n",
              "      </script>\n",
              "    </div>\n",
              "  </div>\n",
              "  "
            ]
          },
          "metadata": {},
          "execution_count": 248
        }
      ]
    },
    {
      "cell_type": "code",
      "source": [
        "# sentence tokenization\n",
        "import nltk\n",
        "nltk.download('punkt')\n",
        "from nltk.tokenize import sent_tokenize\n"
      ],
      "metadata": {
        "colab": {
          "base_uri": "https://localhost:8080/"
        },
        "id": "olob9UfbpXOo",
        "outputId": "b2581b8b-3a81-45c9-9f40-5a4aa1e95fe2"
      },
      "execution_count": 249,
      "outputs": [
        {
          "output_type": "stream",
          "name": "stderr",
          "text": [
            "[nltk_data] Downloading package punkt to /root/nltk_data...\n",
            "[nltk_data]   Package punkt is already up-to-date!\n"
          ]
        }
      ]
    },
    {
      "cell_type": "code",
      "source": [
        "import numpy as np\n",
        "from textblob import TextBlob \n",
        "import seaborn as sns\n",
        "import matplotlib.pyplot as plt\n",
        "%matplotlib inline"
      ],
      "metadata": {
        "id": "i_ZHI7srrtVq"
      },
      "execution_count": 250,
      "outputs": []
    },
    {
      "cell_type": "code",
      "source": [
        "df['text']"
      ],
      "metadata": {
        "colab": {
          "base_uri": "https://localhost:8080/"
        },
        "id": "izx6DhD1uFAO",
        "outputId": "d604d513-9ec2-470a-fca2-4bea22645bc0"
      },
      "execution_count": 251,
      "outputs": [
        {
          "output_type": "execute_result",
          "data": {
            "text/plain": [
              "0    ranking customer behaviours for business strat...\n",
              "Name: text, dtype: object"
            ]
          },
          "metadata": {},
          "execution_count": 251
        }
      ]
    },
    {
      "cell_type": "code",
      "source": [
        "from nltk.tokenize import word_tokenize\n",
        "tokenized_word= word_tokenize(text)\n",
        "print(tokenized_word)"
      ],
      "metadata": {
        "colab": {
          "base_uri": "https://localhost:8080/"
        },
        "id": "wwIVVgtu31mR",
        "outputId": "9b055337-e647-4a5b-8fa9-69e2b61fefa7"
      },
      "execution_count": 252,
      "outputs": [
        {
          "output_type": "stream",
          "name": "stdout",
          "text": [
            "['ranking', 'customer', 'behaviours', 'for', 'business', 'strategyalgorithmic', 'trading', 'for', 'multiple', 'commodities', 'markets', ',', 'like', 'forex', ',', 'metals', ',', 'energy', ',', 'etc.trading', 'bot', 'for', 'forexpython', 'model', 'for', 'the', 'analysis', 'of', 'sector-specific', 'stock', 'etfs', 'for', 'investment', 'purposesplaystore', '&', 'appstore', 'to', 'google', 'analytics', '(', 'ga', ')', 'or', 'firebase', 'to', 'google', 'data', 'studio', 'mobile', 'app', 'kpi', 'dashboardgoogle', 'local', 'service', 'ads', 'lsa', 'api', 'to', 'google', 'bigquery', 'to', 'google', 'data', 'studioai', 'conversational', 'bot', 'using', 'rasarecommendation', 'system', 'architecturerise', 'of', 'telemedicine', 'and', 'its', 'impact', 'on', 'livelihood', 'by', 'rise', 'of', 'e-health', 'and', 'its', 'impact', 'on', 'humans', 'by', 'the', 'year', 'rise', 'of', 'e-health', 'and', 'its', 'impact', 'on', 'humans', 'by', 'the', 'year', 'rise', 'of', 'chatbots', 'and', 'its', 'impact', 'on', 'customer', 'support', 'by', 'the', 'year', 'ai/ml', 'and', 'predictive', 'modelingsolution', 'for', 'contact', 'centre', 'problemshow', 'to', 'setup', 'custom', 'domain', 'for', 'google', 'app', 'engine', 'application', '?', 'code', 'review', 'checklistmr', '.', 'sakamoto', 'is', 'a', 'bonsai', 'artist', ',', 'lives', 'downtown', 'kyoto', ',', 'japan', '.', 'bonsai', 'is', 'a', 'japanese', 'art', 'form', 'that', 'is', 'the', 'cultivation', 'of', 'small', 'trees', 'in', 'a', 'small', 'or', 'medium', 'container', '.', 'he', 'is', 'in', 'this', 'field', 'of', 'business', 'for', 'the', 'last', 'ten', 'years', 'and', 'he', 'loves', 'what', 'he', 'does', 'on', 'a', 'daily', 'basis', '.', 'people', 'from', 'different', 'cities', 'in', 'japan', ',', 'come', 'to', 'buy', 'his', 'artwork', '.', 'but', ',', 'in', 'the', 'early', 'stage', 'of', 'his', 'business', ',', 'he', 'was', 'just', 'another', 'regular', 'bosai', 'artist', '.', 'his', 'popularity', 'has', 'increased', 'because', 'of', 'the', 'stories', 'he', 'tells', 'for', 'every', 'art', 'he', 'is', 'selling', '.', 'his', 'customer', 'immediately', 'loved', 'him', 'for', 'this', 'while', 'buying', 'a', 'bonsai', 'art', '.', 'he', 'loved', 'to', 'sell', 'his', 'customer', 'with', 'his', 'artwork', 'and', 'a', 'story', 'related', 'to', 'that', 'product', 'which', 'resurrects', 'his', 'presence', 'through', 'his', 'art', 'in', 'customers', '.', 'soon', 'enough', 'his', 'business', 'thrived', 'and', 'nowadays', 'he', 'is', 'always', 'busy', '.', 'after', 'the', 'digital', 'revolution', ',', 'although', 'his', 'sales', 'increased', ',', 'he', 'was', 'not', 'happy', '.', 'he', 'was', 'not', 'satisfied', '.', 'something', 'is', 'eating', 'up', 'his', 'mind', 'day', 'by', 'day', '.', 'he', 'could', 'not', 'understand', 'what', '’', 's', 'the', 'reason', 'behind', 'his', 'remorse.a', 'chatbot', 'is', 'an', 'awesome', 'invention', 'of', 'the', 'digital', 'revolution', '.', 'it', 'is', 'the', 'real-life', 'embodiment', 'of', 'customer', 'engagement', '.', 'every', 'business', 'needs', 'this', 'feature-', 'will', 'be', 'an', 'understatement', '.', 'because', 'customer', 'engagement', 'is', 'the', 'base', 'of', 'any', 'business', '.', 'the', 'chatbot', 'does', 'the', 'exact', 'thing', 'digitally', '.', 'it', 'helps', 'customers', 'to', 'answer', 'the', 'queries', 'and', 'tell', 'about', 'the', 'product', 'that', 'the', 'business', 'has', 'to', 'offer', 'is', 'a', 'fully', 'automated', 'way', 'with', 'vibrant', 'customizations', '.', 'mr.', 'sakamoto', 'is', 'running', 'his', 'business', 'for', 'the', 'last', 'fifteen', 'years', 'now', '.', 'and', 'now', 'he', 'is', 'happy', 'that', 'he', 'was', 'not', 'for', 'the', 'past', 'couple', 'of', 'years', '.', 'the', 'rationale', 'behind', 'his', 'happiness', 'is', 'the', 'chatbot', '.', 'though', 'he', 'has', 'a', 'website', 'and', 'app', 'to', 'sell', 'his', 'bonsai', 'art', ',', 'he', 'could', 'not', 'engage', 'with', 'the', 'customers', 'in', 'the', 'way', 'he', 'wanted', 'to', '.', 'he', 'has', 'trained', 'his', 'employees', 'and', 'apprentices', ',', 'but', 'they', 'are', 'not', 'providing', 'the', 'same', 'service', 'in', 'the', 'way', 'he', 'does', '.', 'he', 'was', 'unsatisfied', 'and', 'the', 'chatbot', 'relives', 'him', 'from', 'his', 'sadness', '.', 'he', 'has', 'done', 'all', 'that', 'at', 'affordable', 'prices', 'in', 'no', 'time.let', '’', 's', 'understand', 'the', 'mr.', 'sakamoto', '’', 's', '“', 'mondai', 'nai', '”', '-', 'perspective', 'about', 'why', 'chatbot', 'is', 'the', 'answer', 'of', 'his', 'problems.this', 'is', 'the', 'fundamental', 'and', 'root', 'cause', 'for', 'which', 'mr.', 'sakamoto', 'has', 'to', 'implement', 'the', 'chatbot', 'in', 'the', 'first', 'place', '.', 'his', 'stories', 'are', 'embedded', 'with', 'each', 'art', '.', 'the', 'product', 'which', 'he', 'sells', 'needs', 'this', 'story', 'to', 'be', 'with', 'it', '.', 'his', 'stories', 'which', 'were', 'not', 'been', 'told', 'to', 'all', 'the', 'customers', 'before', 'are', 'now', 'sharing', 'with', 'this', 'chatbot', 'and', 'building', 'the', 'trust', 'between', 'them', '.', 'we', 'all', 'can', 'agree', 'on', 'this', 'one', 'statement', 'that', 'trust', 'is', 'the', 'most', 'impactful', 'aspect', ',', 'maybe', 'the', 'best', 'of', 'aspects', ',', 'in', 'the', 'relation', 'between', 'any', 'customer', 'and', 'business-owner', ',', 'whether', 'the', 'business', 'is', 'small', ',', 'medium', ',', 'or', 'large.millennials', ',', 'a', 'word', 'that', 'was', 'not', 'introduced', 'before', '.', 'the', 'generation', 'which', 'is', 'stuck', 'in', 'between', 'gen-x', 'and', 'gen-y', '.', 'a', 'generation', 'of', 'people', 'accustomed', 'to', 'both', 'digitization', 'and', 'old', 'culture', '.', 'they', 'are', 'the', 'most', 'targeted', 'audience', 'in', 'this', 'era', '.', 'what', 'else', 'would', 'be', 'more', 'approachable', 'to', 'this', 'generation', 'than', 'a', 'chatbot', '?', 'it', '’', 's', 'easy', ',', 'less', 'time', 'consuming', 'to', 'use', '.', 'mr.', 'sakamoto', 'is', 'now', 'one', 'of', 'the', 'few', 'gen-x', 'persons', 'who', 'can', 'do', 'business', 'with', 'the', 'millennial', 'so', 'easily.mr', '.', 'sakamoto', 'has', 'some', 'employees', 'and', 'apprentices', '.', 'he', 'has', 'trained', 'them', 'as', 'per', 'his', 'needs', '.', 'but', 'there', 'is', 'a', 'limit', '.', 'they', 'can', '’', 't', 'deliver', 'the', 'exact', 'things', 'that', 'he', 'can', 'or', 'the', 'way', 'he', 'does', '.', 'neither', 'chatbot', 'can', 'do', 'that', 'exactly', ',', 'it', 'will', 'accurately', 'follow', 'the', 'instructions', '.', 'not', 'only', 'the', 'chatbot', 'solve', 'the', 'queries', 'of', 'the', 'customer', 'in', 'his', 'way', ',', 'but', 'also', 'give', 'a', 'recommendation', 'to', 'the', 'product', 'in', 'the', 'way', 'he', 'wants', 'too', '.', 'is', 'there', 'any', 'more', 'attribute', 'he', 'would', 'care', 'about', 'that', '?', 'absolutely', 'no', '!', 'the', 'most', 'expensive', 'thing', 'for', 'any', 'businessman', 'is', 'the', 'return', 'of', 'their', 'customer', 'with', 'an', 'empty', 'hand', 'because', 'of', 'his', 'unavailability', '.', 'a', 'chatbot', 'is', 'a', 'perfect', 'way', 'to', 'solve', 'it', '.', 'for', 'mr.', 'sakamoto', '’', 's', 'customized', 'chatbot', 'is', 'not', 'only', 'present', 'for', 'customers', 'in', 'their', 'availability', ',', 'but', 'also', 'it', 'was', 'giving', 'the', 'response', 'to', 'the', 'customer', 'in', 'all', 'the', 'time', 'zone', ',', 'all', 'over', 'the', 'world', '.', 'mr.', 'sakamoto', 'wouldn', '’', 't', 'be', 'happier', 'for', 'this', 'feature.in', 'the', 'era', 'of', 'globalization', ',', 'what', 'is', 'more', ',', 'helpful', 'than', 'a', 'chatbot', '?', 'it', 'can', 'be', 'customized', 'in', 'any', 'language', '.', 'it', 'can', 'be', 'accessed', 'by', 'any', 'human', 'being', 'residing', 'in', 'any', 'part', 'of', 'the', 'world', '.', 'and', 'at', 'the', 'end', 'of', 'the', 'day', ',', 'when', 'that', 'foreigner', 'is', 'happy', 'with', 'the', 'buy', 'and', 'the', 'felicitation', 'and', 'says', '“', 'arigato', '”', 'but', 'in', 'his', 'own', 'language', ',', 'at', 'that', 'moment', 'he', 'feels', 'so', 'warm', 'and', 'happy.handling', 'a', 'lot', 'of', 'customers', 'is', 'really', 'hard', '.', 'he', 'assigned', 'employees', ',', 'but', 'the', 'rate', 'is', 'growing', 'fast', '.', 'so', ',', 'in', 'the', 'competition', 'of', 'the', 'market', ',', 'mr.', 'sakamoto', 'took', 'the', 'help', 'of', 'a', 'chatbot', '.', 'now', 'this', 'automated', 'customized', 'application', 'is', 'handling', 'a', 'greater', 'number', 'of', 'customers', 'than', 'his', 'employees', 'can', 'do', '.', 'his', 'business', 'is', 'growing', 'exponentially.now', ',', 'when', 'you', 'found', 'out', 'why', 'mr.', 'sakamoto', 'is', 'happy', 'and', 'his', 'business', 'is', 'growing', 'in', 'this', 'competitive', 'industry', 'then', ',', 'do', 'you', 'still', 'have', 'a', 'question', 'in', 'mind', 'that', 'why', 'does', 'your', 'business', 'need', 'a', 'chatbot', '?', 'we', 'provide', 'intelligence', ',', 'accelerate', 'innovation', 'and', 'implement', 'technology', 'with', 'extraordinary', 'breadth', 'and', 'depth', 'global', 'insights', 'into', 'the', 'big', 'data', ',', 'data-driven', 'dashboards', ',', 'applications', 'development', ',', 'and', 'information', 'management', 'for', 'organizations', 'through', 'combining', 'unique', ',', 'specialist', 'services', 'and', 'high-lvel', 'human', 'expertise.contact', 'us', ':', 'hello', '@', 'blackcoffer.com©', 'all', 'right', 'reserved', ',', 'blackcoffer', '(', 'opc', ')', 'pvt', '.', 'ltd']\n"
          ]
        }
      ]
    },
    {
      "cell_type": "code",
      "source": [],
      "metadata": {
        "id": "098iVa5y_XDP"
      },
      "execution_count": 252,
      "outputs": []
    },
    {
      "cell_type": "code",
      "source": [
        "text_blob= TextBlob(df['text'][0])\n",
        "print(text_blob.sentiment.polarity)"
      ],
      "metadata": {
        "colab": {
          "base_uri": "https://localhost:8080/"
        },
        "id": "F4NjdLz7s56R",
        "outputId": "b38f9885-b24d-4d5f-b90a-b76943e393a0"
      },
      "execution_count": 253,
      "outputs": [
        {
          "output_type": "stream",
          "name": "stdout",
          "text": [
            "0.16551020408163267\n"
          ]
        }
      ]
    },
    {
      "cell_type": "code",
      "source": [
        "# (tokenized_word.text_blob.sentiment.polarity == 1).count()"
      ],
      "metadata": {
        "id": "VsidWQRU_7jh"
      },
      "execution_count": 254,
      "outputs": []
    },
    {
      "cell_type": "code",
      "source": [
        "# most_negative= df[df.polarity == -1].text.sum()\n",
        "# most_negative"
      ],
      "metadata": {
        "id": "7OIMwhQL4TyL"
      },
      "execution_count": 255,
      "outputs": []
    },
    {
      "cell_type": "code",
      "source": [
        "# polarity lies in -1 to 1 so -1 to = -ve sentiment\n",
        "def find_pol(text):\n",
        "  return TextBlob(text).sentiment.polarity\n",
        "df['polarity']= df['text'].apply(find_pol)\n",
        "df"
      ],
      "metadata": {
        "colab": {
          "base_uri": "https://localhost:8080/",
          "height": 80
        },
        "id": "Iu9rpu6MwHxt",
        "outputId": "694c9247-e62c-44c9-eb5c-4a0e00b54019"
      },
      "execution_count": 256,
      "outputs": [
        {
          "output_type": "execute_result",
          "data": {
            "text/plain": [
              "                                our_title  \\\n",
              "0  Why does your business need a chatbot?   \n",
              "\n",
              "                                                text  polarity  \n",
              "0  ranking customer behaviours for business strat...   0.16551  "
            ],
            "text/html": [
              "\n",
              "  <div id=\"df-4681f4e6-7ce0-47a1-97fe-ffab1251e231\">\n",
              "    <div class=\"colab-df-container\">\n",
              "      <div>\n",
              "<style scoped>\n",
              "    .dataframe tbody tr th:only-of-type {\n",
              "        vertical-align: middle;\n",
              "    }\n",
              "\n",
              "    .dataframe tbody tr th {\n",
              "        vertical-align: top;\n",
              "    }\n",
              "\n",
              "    .dataframe thead th {\n",
              "        text-align: right;\n",
              "    }\n",
              "</style>\n",
              "<table border=\"1\" class=\"dataframe\">\n",
              "  <thead>\n",
              "    <tr style=\"text-align: right;\">\n",
              "      <th></th>\n",
              "      <th>our_title</th>\n",
              "      <th>text</th>\n",
              "      <th>polarity</th>\n",
              "    </tr>\n",
              "  </thead>\n",
              "  <tbody>\n",
              "    <tr>\n",
              "      <th>0</th>\n",
              "      <td>Why does your business need a chatbot?</td>\n",
              "      <td>ranking customer behaviours for business strat...</td>\n",
              "      <td>0.16551</td>\n",
              "    </tr>\n",
              "  </tbody>\n",
              "</table>\n",
              "</div>\n",
              "      <button class=\"colab-df-convert\" onclick=\"convertToInteractive('df-4681f4e6-7ce0-47a1-97fe-ffab1251e231')\"\n",
              "              title=\"Convert this dataframe to an interactive table.\"\n",
              "              style=\"display:none;\">\n",
              "        \n",
              "  <svg xmlns=\"http://www.w3.org/2000/svg\" height=\"24px\"viewBox=\"0 0 24 24\"\n",
              "       width=\"24px\">\n",
              "    <path d=\"M0 0h24v24H0V0z\" fill=\"none\"/>\n",
              "    <path d=\"M18.56 5.44l.94 2.06.94-2.06 2.06-.94-2.06-.94-.94-2.06-.94 2.06-2.06.94zm-11 1L8.5 8.5l.94-2.06 2.06-.94-2.06-.94L8.5 2.5l-.94 2.06-2.06.94zm10 10l.94 2.06.94-2.06 2.06-.94-2.06-.94-.94-2.06-.94 2.06-2.06.94z\"/><path d=\"M17.41 7.96l-1.37-1.37c-.4-.4-.92-.59-1.43-.59-.52 0-1.04.2-1.43.59L10.3 9.45l-7.72 7.72c-.78.78-.78 2.05 0 2.83L4 21.41c.39.39.9.59 1.41.59.51 0 1.02-.2 1.41-.59l7.78-7.78 2.81-2.81c.8-.78.8-2.07 0-2.86zM5.41 20L4 18.59l7.72-7.72 1.47 1.35L5.41 20z\"/>\n",
              "  </svg>\n",
              "      </button>\n",
              "      \n",
              "  <style>\n",
              "    .colab-df-container {\n",
              "      display:flex;\n",
              "      flex-wrap:wrap;\n",
              "      gap: 12px;\n",
              "    }\n",
              "\n",
              "    .colab-df-convert {\n",
              "      background-color: #E8F0FE;\n",
              "      border: none;\n",
              "      border-radius: 50%;\n",
              "      cursor: pointer;\n",
              "      display: none;\n",
              "      fill: #1967D2;\n",
              "      height: 32px;\n",
              "      padding: 0 0 0 0;\n",
              "      width: 32px;\n",
              "    }\n",
              "\n",
              "    .colab-df-convert:hover {\n",
              "      background-color: #E2EBFA;\n",
              "      box-shadow: 0px 1px 2px rgba(60, 64, 67, 0.3), 0px 1px 3px 1px rgba(60, 64, 67, 0.15);\n",
              "      fill: #174EA6;\n",
              "    }\n",
              "\n",
              "    [theme=dark] .colab-df-convert {\n",
              "      background-color: #3B4455;\n",
              "      fill: #D2E3FC;\n",
              "    }\n",
              "\n",
              "    [theme=dark] .colab-df-convert:hover {\n",
              "      background-color: #434B5C;\n",
              "      box-shadow: 0px 1px 3px 1px rgba(0, 0, 0, 0.15);\n",
              "      filter: drop-shadow(0px 1px 2px rgba(0, 0, 0, 0.3));\n",
              "      fill: #FFFFFF;\n",
              "    }\n",
              "  </style>\n",
              "\n",
              "      <script>\n",
              "        const buttonEl =\n",
              "          document.querySelector('#df-4681f4e6-7ce0-47a1-97fe-ffab1251e231 button.colab-df-convert');\n",
              "        buttonEl.style.display =\n",
              "          google.colab.kernel.accessAllowed ? 'block' : 'none';\n",
              "\n",
              "        async function convertToInteractive(key) {\n",
              "          const element = document.querySelector('#df-4681f4e6-7ce0-47a1-97fe-ffab1251e231');\n",
              "          const dataTable =\n",
              "            await google.colab.kernel.invokeFunction('convertToInteractive',\n",
              "                                                     [key], {});\n",
              "          if (!dataTable) return;\n",
              "\n",
              "          const docLinkHtml = 'Like what you see? Visit the ' +\n",
              "            '<a target=\"_blank\" href=https://colab.research.google.com/notebooks/data_table.ipynb>data table notebook</a>'\n",
              "            + ' to learn more about interactive tables.';\n",
              "          element.innerHTML = '';\n",
              "          dataTable['output_type'] = 'display_data';\n",
              "          await google.colab.output.renderOutput(dataTable, element);\n",
              "          const docLink = document.createElement('div');\n",
              "          docLink.innerHTML = docLinkHtml;\n",
              "          element.appendChild(docLink);\n",
              "        }\n",
              "      </script>\n",
              "    </div>\n",
              "  </div>\n",
              "  "
            ]
          },
          "metadata": {},
          "execution_count": 256
        }
      ]
    },
    {
      "cell_type": "code",
      "source": [
        "# avg word length in sentence \n",
        "count=0\n",
        "for i in text:\n",
        "  if i == \".\":\n",
        "    continue\n",
        "  else:\n",
        "    count +=1\n",
        "length = len (text.split())\n",
        "print(count/length)\n"
      ],
      "metadata": {
        "colab": {
          "base_uri": "https://localhost:8080/"
        },
        "id": "twp4XbE23gdj",
        "outputId": "6a48a899-64ca-4ccd-aba3-fda6ca55d6b5"
      },
      "execution_count": 257,
      "outputs": [
        {
          "output_type": "stream",
          "name": "stdout",
          "text": [
            "5.902270483711748\n"
          ]
        }
      ]
    },
    {
      "cell_type": "code",
      "source": [
        "# avg word per sentence\n",
        "count=0\n",
        "for i in text:\n",
        "  if i == \" \":\n",
        "    continue\n",
        "  else:\n",
        "    count +=1\n",
        "length = len (text.split())\n",
        "print(count/length)\n"
      ],
      "metadata": {
        "colab": {
          "base_uri": "https://localhost:8080/"
        },
        "id": "93QjySnowdc7",
        "outputId": "1c9ca44f-79d7-4341-d798-b2a10dfd8f9f"
      },
      "execution_count": 258,
      "outputs": [
        {
          "output_type": "stream",
          "name": "stdout",
          "text": [
            "4.972359328726554\n"
          ]
        }
      ]
    },
    {
      "cell_type": "code",
      "source": [
        "!pip install readability"
      ],
      "metadata": {
        "colab": {
          "base_uri": "https://localhost:8080/"
        },
        "id": "pPh2RHcInlSm",
        "outputId": "116a8c74-480e-4517-9d19-0872dd3edc5f"
      },
      "execution_count": 259,
      "outputs": [
        {
          "output_type": "stream",
          "name": "stdout",
          "text": [
            "Looking in indexes: https://pypi.org/simple, https://us-python.pkg.dev/colab-wheels/public/simple/\n",
            "Requirement already satisfied: readability in /usr/local/lib/python3.9/dist-packages (0.3.1)\n"
          ]
        }
      ]
    },
    {
      "cell_type": "code",
      "source": [
        "import readability"
      ],
      "metadata": {
        "id": "kPAvPu3Mnq3q"
      },
      "execution_count": 260,
      "outputs": []
    },
    {
      "cell_type": "code",
      "source": [
        "result = readability.getmeasures(text, lang='en')"
      ],
      "metadata": {
        "id": "DufbBlJnn2Tz"
      },
      "execution_count": 261,
      "outputs": []
    },
    {
      "cell_type": "code",
      "source": [
        "print(result ['readability grades']['FleschReadingEase'])"
      ],
      "metadata": {
        "colab": {
          "base_uri": "https://localhost:8080/"
        },
        "id": "fnZKxyu_oEVg",
        "outputId": "ea466065-8b56-4033-a96a-8330c38b2323"
      },
      "execution_count": 262,
      "outputs": [
        {
          "output_type": "stream",
          "name": "stdout",
          "text": [
            "-974.463108108108\n"
          ]
        }
      ]
    },
    {
      "cell_type": "code",
      "source": [
        "result"
      ],
      "metadata": {
        "colab": {
          "base_uri": "https://localhost:8080/"
        },
        "id": "oyGRnYohodkI",
        "outputId": "c100d0be-6eb9-4740-ae58-5730b58234a0"
      },
      "execution_count": 263,
      "outputs": [
        {
          "output_type": "execute_result",
          "data": {
            "text/plain": [
              "OrderedDict([('readability grades',\n",
              "              OrderedDict([('Kincaid', 406.5486486486487),\n",
              "                           ('ARI', 518.847027027027),\n",
              "                           ('Coleman-Liau', 11.980742930501933),\n",
              "                           ('FleschReadingEase', -974.463108108108),\n",
              "                           ('GunningFogIndex', 421.15675675675675),\n",
              "                           ('LIX', 1061.2895752895754),\n",
              "                           ('SMOGIndex', 75.4568837309472),\n",
              "                           ('RIX', 262.0),\n",
              "                           ('DaleChallIndex', 60.00600926640926)])),\n",
              "             ('sentence info',\n",
              "              OrderedDict([('characters_per_word', 4.72972972972973),\n",
              "                           ('syll_per_word', 1.5337837837837838),\n",
              "                           ('words_per_sentence', 1036.0),\n",
              "                           ('sentences_per_paragraph', 1.0),\n",
              "                           ('type_token_ratio', 0.40540540540540543),\n",
              "                           ('characters', 4900),\n",
              "                           ('syllables', 1589),\n",
              "                           ('words', 1036),\n",
              "                           ('wordtypes', 420),\n",
              "                           ('sentences', 1),\n",
              "                           ('paragraphs', 1),\n",
              "                           ('long_words', 262),\n",
              "                           ('complex_words', 175),\n",
              "                           ('complex_words_dc', 327)])),\n",
              "             ('word usage',\n",
              "              OrderedDict([('tobeverb', 53),\n",
              "                           ('auxverb', 14),\n",
              "                           ('conjunction', 39),\n",
              "                           ('pronoun', 108),\n",
              "                           ('preposition', 124),\n",
              "                           ('nominalization', 33)])),\n",
              "             ('sentence beginnings',\n",
              "              OrderedDict([('pronoun', 0),\n",
              "                           ('interrogative', 0),\n",
              "                           ('article', 0),\n",
              "                           ('subordination', 0),\n",
              "                           ('conjunction', 0),\n",
              "                           ('preposition', 0)]))])"
            ]
          },
          "metadata": {},
          "execution_count": 263
        }
      ]
    },
    {
      "cell_type": "code",
      "source": [
        "nltk.download('vader_lexicon')\n",
        "from nltk.sentiment import SentimentIntensityAnalyzer\n",
        "\n",
        "from tqdm.notebook import tqdm\n",
        "\n",
        "sia = SentimentIntensityAnalyzer()"
      ],
      "metadata": {
        "colab": {
          "base_uri": "https://localhost:8080/"
        },
        "id": "kT2f4cHPxbb3",
        "outputId": "91a02a2c-89ed-44f6-dfac-36254fa76514"
      },
      "execution_count": 264,
      "outputs": [
        {
          "output_type": "stream",
          "name": "stderr",
          "text": [
            "[nltk_data] Downloading package vader_lexicon to /root/nltk_data...\n",
            "[nltk_data]   Package vader_lexicon is already up-to-date!\n"
          ]
        }
      ]
    },
    {
      "cell_type": "code",
      "source": [
        "sia.polarity_scores(text)"
      ],
      "metadata": {
        "colab": {
          "base_uri": "https://localhost:8080/"
        },
        "id": "nsd-E9o_xzrt",
        "outputId": "fb62f47e-f68d-4da8-90c8-c2838e835366"
      },
      "execution_count": 266,
      "outputs": [
        {
          "output_type": "execute_result",
          "data": {
            "text/plain": [
              "{'neg': 0.034, 'neu': 0.841, 'pos': 0.125, 'compound': 0.9986}"
            ]
          },
          "metadata": {},
          "execution_count": 266
        }
      ]
    }
  ]
}